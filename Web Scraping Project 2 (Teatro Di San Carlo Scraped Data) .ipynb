{
 "cells": [
  {
   "cell_type": "code",
   "execution_count": 4,
   "id": "d68700ac",
   "metadata": {},
   "outputs": [],
   "source": [
    "from bs4 import BeautifulSoup as bs\n",
    "import requests as req\n",
    "import pandas as pd"
   ]
  },
  {
   "cell_type": "code",
   "execution_count": 99,
   "id": "ac8c191d",
   "metadata": {},
   "outputs": [],
   "source": [
    "pages=[]\n",
    "title=[]\n",
    "status=[]\n",
    "price=[]\n",
    "description=[]\n",
    "pagess=2\n",
    "for i in range(1,pagess+1):\n",
    "    url=\"https://shop.teatrosancarlo.it/en/17-books?page={}\".format(i)\n",
    "    pages.append(url)\n",
    "for j in pages:\n",
    "    page=req.get(j)\n",
    "    soup=bs(page.text,\"html.parser\")\n",
    "    for k in soup.find_all(\"h2\",class_=\"h3 product-title\"):\n",
    "        tlt=k.getText()\n",
    "        tlt1=tlt.replace(\"\\n\",\"\")\n",
    "        title.append(tlt1)\n",
    "    for l in soup.find_all(\"div\",class_=\"product-availability\"):\n",
    "        st=l.getText()\n",
    "        st1=st.replace(\" \",\"\")\n",
    "        st2=st1.replace(\"\\n\",\"\")\n",
    "        status.append(st2)\n",
    "    for m in soup.find_all(\"div\",class_=\"product-price-and-shipping\"):\n",
    "        pri=m.getText()\n",
    "        pri1=pri.replace(\"\\n\",\"\")\n",
    "        price.append(pri1)\n",
    "    for n in soup.find_all(\"div\",class_=\"product-description-short\"):\n",
    "        des=n.getText()\n",
    "        b1=des.replace(\"\\n                            \",\"\")\n",
    "        b2=b1.replace(\"\\n__________________________________________________________________\\n\",\" \")\n",
    "        b3=b2.replace(\"\\n                        \",\"\")\n",
    "        b4=b3.replace(\"____________________________________________________________\",\"\")\n",
    "        b5=b4.replace(\"\\n\",\"\")\n",
    "        description.append(b5)"
   ]
  },
  {
   "cell_type": "code",
   "execution_count": 107,
   "id": "78a4357a",
   "metadata": {},
   "outputs": [],
   "source": [
    "data1={\"Book Name\":title,\"Price\":price,\"Status\":status,\"Description\":description}\n",
    "df=pd.DataFrame(data1)\n",
    "df.index+=1\n",
    "df.to_excel(\"C:/Users/DELL/Teatro Di San Carlo Scraped Data.xlsx\")"
   ]
  }
 ],
 "metadata": {
  "kernelspec": {
   "display_name": "Python 3 (ipykernel)",
   "language": "python",
   "name": "python3"
  },
  "language_info": {
   "codemirror_mode": {
    "name": "ipython",
    "version": 3
   },
   "file_extension": ".py",
   "mimetype": "text/x-python",
   "name": "python",
   "nbconvert_exporter": "python",
   "pygments_lexer": "ipython3",
   "version": "3.9.12"
  }
 },
 "nbformat": 4,
 "nbformat_minor": 5
}
